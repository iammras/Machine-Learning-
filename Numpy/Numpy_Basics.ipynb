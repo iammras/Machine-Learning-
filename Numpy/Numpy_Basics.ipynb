{
  "cells": [
    {
      "cell_type": "markdown",
      "metadata": {
        "id": "view-in-github",
        "colab_type": "text"
      },
      "source": [
        "<a href=\"https://colab.research.google.com/github/iammras/Machine-Learning-/blob/main/Numpy/Numpy_Basics.ipynb\" target=\"_parent\"><img src=\"https://colab.research.google.com/assets/colab-badge.svg\" alt=\"Open In Colab\"/></a>"
      ]
    },
    {
      "cell_type": "code",
      "execution_count": null,
      "metadata": {
        "id": "ngEGbJrMxQzW"
      },
      "outputs": [],
      "source": [
        "#importing numpy and giving it a name np\n",
        "import numpy as np"
      ]
    },
    {
      "cell_type": "markdown",
      "source": [
        "📐 Creating Arrays"
      ],
      "metadata": {
        "id": "3sxCh4etfSk7"
      }
    },
    {
      "cell_type": "code",
      "source": [
        "#1D array\n",
        "\n",
        "a=np.array([1,2,3,4,5],dtype=\"int32\")"
      ],
      "metadata": {
        "id": "TN8ZHNTpfdqa"
      },
      "execution_count": null,
      "outputs": []
    },
    {
      "cell_type": "code",
      "source": [
        "#2d array\n",
        "\n",
        "b=np.array([[1,2,3],[4,5,6],[7,8,9]])"
      ],
      "metadata": {
        "colab": {
          "base_uri": "https://localhost:8080/"
        },
        "id": "OkXUEbSkfxiI",
        "outputId": "47e78a0e-84d1-460c-9249-02fe8ab8702e"
      },
      "execution_count": null,
      "outputs": [
        {
          "output_type": "stream",
          "name": "stdout",
          "text": [
            "[[1 2 3]\n",
            " [4 5 6]\n",
            " [7 8 9]]\n"
          ]
        }
      ]
    },
    {
      "cell_type": "code",
      "source": [
        "#3d array is a collection of 2D arrays\n",
        "#structure:-(depth,row, column) where depth is number of 2d matrices\n",
        "c=np.array([[[1,2],[3,1]]])"
      ],
      "metadata": {
        "colab": {
          "base_uri": "https://localhost:8080/"
        },
        "id": "YGHlOnIlgDYU",
        "outputId": "48143953-9eef-4261-8704-41a79ae85edb"
      },
      "execution_count": null,
      "outputs": [
        {
          "output_type": "stream",
          "name": "stdout",
          "text": [
            "[[[1 2]\n",
            "  [3 1]]]\n"
          ]
        }
      ]
    },
    {
      "cell_type": "markdown",
      "source": [
        "\n",
        "🧪 Array Attributes"
      ],
      "metadata": {
        "id": "HTVUFMPNh6Xu"
      }
    },
    {
      "cell_type": "code",
      "source": [
        "# shape:- which tells you how many number of rows and cols does an array consists of\n",
        "a.shape\n",
        "\n",
        "#ndim:- tells you how many dimensions and array consists\n",
        "b.ndim\n",
        "\n",
        "# dtype:- for checking the data types of an array\n",
        "c.dtype\n",
        "\n",
        "# size:- for total number of elements in an array\n",
        "c.size\n",
        "\n",
        "#itemsize:- size of each item in bytes\n",
        "a.itemsize"
      ],
      "metadata": {
        "colab": {
          "base_uri": "https://localhost:8080/"
        },
        "id": "szkKxKTviHIh",
        "outputId": "ed001aa3-1d3e-47b0-fb97-b5bc1f72b735"
      },
      "execution_count": null,
      "outputs": [
        {
          "output_type": "stream",
          "name": "stdout",
          "text": [
            "4\n"
          ]
        }
      ]
    },
    {
      "cell_type": "markdown",
      "source": [
        "🧱 Array Creation Functions"
      ],
      "metadata": {
        "id": "HrYX7f95lJM7"
      }
    },
    {
      "cell_type": "code",
      "source": [
        "# All zeros\n",
        "np.zeros((5,5))\n",
        "\n",
        "#All ones\n",
        "np.ones((7,7))\n",
        "\n",
        "#All 5s\n",
        "np.full((7,7),5)\n",
        "\n",
        "#identity matrix\n",
        "np.eye(7)\n",
        "\n",
        "#arange(start,stop,step)\n",
        "arr=np.arange(1,10,2)\n",
        "print(arr)"
      ],
      "metadata": {
        "colab": {
          "base_uri": "https://localhost:8080/"
        },
        "id": "UZDEZ2OxlNsl",
        "outputId": "94a32a47-b988-4156-cfb5-ab543e571a05"
      },
      "execution_count": null,
      "outputs": [
        {
          "output_type": "stream",
          "name": "stdout",
          "text": [
            "[1 3 5 7 9]\n"
          ]
        }
      ]
    },
    {
      "cell_type": "markdown",
      "source": [
        "🧮 Indexing & Slicing"
      ],
      "metadata": {
        "id": "zfDTpIt2oDCB"
      }
    },
    {
      "cell_type": "code",
      "source": [
        "# first row\n",
        "a[0]\n",
        "\n",
        "#element at second row third column\n",
        "b[1][2]\n",
        "\n",
        "\n",
        "\"\"\"\"\n",
        "row slicing\n",
        "arr[start_row:end_row]\n",
        "\"\"\"\n",
        "arr = np.array([\n",
        "    [10, 20, 30],\n",
        "    [40, 50, 60],\n",
        "    [70, 80, 90]\n",
        "])\n",
        "print(arr[0:1])\n",
        "\n",
        "\"\"\"\n",
        "coloumn slicing\n",
        "arr[:, start_col:end_col]\n",
        "\n",
        "\"\"\"\n",
        "print(arr[:,1:2])\n",
        "\n",
        "\"\"\"\n",
        "arr[row_start:row_end, col_start:col_end]\n",
        "for both the row and the cols slicing\n",
        "\n",
        "\"\"\"\n",
        "print(arr[0:2,1:3])\n"
      ],
      "metadata": {
        "colab": {
          "base_uri": "https://localhost:8080/"
        },
        "id": "rk4hmajmoEbc",
        "outputId": "5a05518b-1340-4b28-f821-18571a38d774"
      },
      "execution_count": 122,
      "outputs": [
        {
          "output_type": "stream",
          "name": "stdout",
          "text": [
            "[[10 20 30]]\n",
            "[[20]\n",
            " [50]\n",
            " [80]]\n",
            "[[20 30]\n",
            " [50 60]]\n"
          ]
        }
      ]
    },
    {
      "cell_type": "markdown",
      "source": [
        "🔄 Array Operations"
      ],
      "metadata": {
        "id": "KQwE4C-ouP_h"
      }
    },
    {
      "cell_type": "code",
      "source": [
        "#element wise\n",
        "arr=np.ones(4,dtype=\"int32\")\n",
        "brr=np.ones(4)\n",
        "print(arr+brr)\n",
        "print(arr-brr)\n",
        "print(arr*brr)\n",
        "print(arr/brr)\n",
        "\n",
        "#dot product\n",
        "print(np.dot(arr,brr))\n",
        "\n",
        "#for adding 5 to each element of the array arr\n",
        "print(arr+5)"
      ],
      "metadata": {
        "colab": {
          "base_uri": "https://localhost:8080/"
        },
        "id": "fNmVDxDvuRTK",
        "outputId": "285ffe68-1082-4794-f059-bcd5a52675ec"
      },
      "execution_count": 61,
      "outputs": [
        {
          "output_type": "stream",
          "name": "stdout",
          "text": [
            "[2. 2. 2. 2.]\n",
            "[0. 0. 0. 0.]\n",
            "[1. 1. 1. 1.]\n",
            "[1. 1. 1. 1.]\n",
            "4.0\n",
            "[6 6 6 6]\n"
          ]
        }
      ]
    },
    {
      "cell_type": "markdown",
      "source": [
        "**🎯 Useful NumPy Fuction**"
      ],
      "metadata": {
        "id": "QOHKAxze2Yte"
      }
    },
    {
      "cell_type": "code",
      "source": [
        "print(np.sum(arr)) # return the sum of the array\n",
        "print(np.min(arr)) # return the minimum element of the array\n",
        "print(np.max(arr)) # return the maximum element of the array\n",
        "print(np.mean(arr)) # return the mean of the array\n",
        "print(np.sqrt(arr)) #  Returns the square root of each element\n",
        "print(np.exp(arr)) #Calculates the exponential (e^x) for each element in the array.e is Euler’s number ≈ 2.718\n",
        "print(np.argmax(arr)) # return the index of the minimum element in the array\n",
        "print(np.argmin(arr)) # return the index of the maximum element in the array"
      ],
      "metadata": {
        "colab": {
          "base_uri": "https://localhost:8080/"
        },
        "id": "y7uqFzuB2m5B",
        "outputId": "27739234-f3f0-49ba-8937-ec517c9478bc"
      },
      "execution_count": 68,
      "outputs": [
        {
          "output_type": "stream",
          "name": "stdout",
          "text": [
            "4\n",
            "1\n",
            "1\n",
            "1.0\n",
            "[1. 1. 1. 1.]\n",
            "[2.71828183 2.71828183 2.71828183 2.71828183]\n",
            "0\n",
            "0\n"
          ]
        }
      ]
    },
    {
      "cell_type": "markdown",
      "source": [
        "**🎲 Random Number Generation**"
      ],
      "metadata": {
        "id": "dsKCtvwc4kxL"
      }
    },
    {
      "cell_type": "code",
      "source": [
        "arr=np.random.rand(5,8) #random decimal values between 0 and 1\n",
        "arr=np.random.randint(1,10,(5,8)) # random integer values between 1 and 10(exlusive)\n",
        "arr=np.random.randn(5,8) # random decimal values following a standard normal distribution and having a mean=0\n",
        "print(arr)"
      ],
      "metadata": {
        "colab": {
          "base_uri": "https://localhost:8080/"
        },
        "id": "B0Lr3eBz4q5y",
        "outputId": "69a2b7f6-94b5-48ae-eedd-a65fdb9dd183"
      },
      "execution_count": 86,
      "outputs": [
        {
          "output_type": "stream",
          "name": "stdout",
          "text": [
            "[[ 1.3460366  -0.31716755 -0.09160339  1.3717608   1.09742378  1.98839709\n",
            "   0.53328266 -1.03559186]\n",
            " [ 2.5008126   1.19650038  2.49331604  1.46363837  0.13221862  0.73643522\n",
            "   0.62339944 -0.18536927]\n",
            " [-1.92830628 -0.10540516  0.58481659 -0.80036176  0.81644302  0.90980925\n",
            "   0.98960833  0.31376667]\n",
            " [ 0.51197333  0.78374822 -1.72995231 -1.11147747  0.58390572  1.53225675\n",
            "   1.35069584  0.42347269]\n",
            " [ 2.00075766 -0.53139432  0.71037521  1.81964673 -0.36171901 -0.55620706\n",
            "   0.02974104  0.70008411]]\n"
          ]
        }
      ]
    },
    {
      "cell_type": "markdown",
      "source": [
        "**🧪 Boolean Masking & Filtering**"
      ],
      "metadata": {
        "id": "UnvhgaW39L29"
      }
    },
    {
      "cell_type": "code",
      "source": [
        "arr=np.array(np.full(5,5))\n",
        "arr[2]=4\n",
        "arr[3]=1\n",
        "print(arr==5) # This compares every element in the array with 5 and returns a Boolean array (True or False):\n",
        "print(arr[arr<5]) # \"Give me only the elements where the condition arr > 5 is True.\""
      ],
      "metadata": {
        "colab": {
          "base_uri": "https://localhost:8080/"
        },
        "id": "P8ui592h9Sux",
        "outputId": "f9ec20f7-b51a-4f14-973c-ea18c2ca987d"
      },
      "execution_count": 95,
      "outputs": [
        {
          "output_type": "stream",
          "name": "stdout",
          "text": [
            "[ True  True False False  True]\n",
            "[4 1]\n"
          ]
        }
      ]
    },
    {
      "cell_type": "markdown",
      "source": [
        "**🛠️ Array Sorting & Unique**"
      ],
      "metadata": {
        "id": "i_-BfAui-5xC"
      }
    },
    {
      "cell_type": "code",
      "source": [
        "arr=[5,4,1,9,9,78]\n",
        "print(np.sort(arr)) # return the sorted array\n",
        "\n",
        "print(np.unique(arr)) # it returns the unique element of the array as a set data structure"
      ],
      "metadata": {
        "colab": {
          "base_uri": "https://localhost:8080/"
        },
        "id": "kGuFH74y_ISz",
        "outputId": "0dea3bad-5f7c-42bc-ff63-21a889a9e64e"
      },
      "execution_count": 98,
      "outputs": [
        {
          "output_type": "stream",
          "name": "stdout",
          "text": [
            "[ 1  4  5  9  9 78]\n",
            "[ 1  4  5  9 78]\n"
          ]
        }
      ]
    },
    {
      "cell_type": "markdown",
      "source": [
        "**🧹 Copy vs View**"
      ],
      "metadata": {
        "id": "jd_tKzgd_stQ"
      }
    },
    {
      "cell_type": "code",
      "source": [
        "arr=np.array([1,3,5,6,6,6,7,8,9])\n",
        "brr=arr.copy() #independent copy Creates a new array in a new memory location.Any changes to brr won’t affect arr.\n",
        "crr=arr.view() #Creates a shallow copy that shares the same data as arr.Changes to the data in crr will affect arr, and vice versa.\n",
        "print(crr)\n",
        "print(brr)\n",
        "print(arr)"
      ],
      "metadata": {
        "colab": {
          "base_uri": "https://localhost:8080/"
        },
        "id": "Kb6DL_iW_0xk",
        "outputId": "9c6a1232-4680-4019-8bbe-7cad5640df1e"
      },
      "execution_count": 100,
      "outputs": [
        {
          "output_type": "stream",
          "name": "stdout",
          "text": [
            "[1 3 5 6 6 6 7 8 9]\n",
            "[1 3 5 6 6 6 7 8 9]\n",
            "[1 3 5 6 6 6 7 8 9]\n"
          ]
        }
      ]
    },
    {
      "cell_type": "markdown",
      "source": [
        "**🧭 Axis Explanation**"
      ],
      "metadata": {
        "id": "XCA8n2xTBEQL"
      }
    },
    {
      "cell_type": "code",
      "source": [
        "arr=np.full((5,3),5)\n",
        "print(arr)\n",
        "print(np.sum(arr,axis=0)) # when axis=0 it calculate  → Operates column-wise (down) for each coloumn and return the array\n",
        "print(np.mean(arr,axis=1)) # when axis=1 it calculate -> operates row-wise(across) for each row it do operation and then return an array\n"
      ],
      "metadata": {
        "colab": {
          "base_uri": "https://localhost:8080/"
        },
        "id": "ZvgXnngUBPdd",
        "outputId": "c1b65bc6-0160-4e55-ff78-6666d79a1cca"
      },
      "execution_count": 107,
      "outputs": [
        {
          "output_type": "stream",
          "name": "stdout",
          "text": [
            "[[5 5 5]\n",
            " [5 5 5]\n",
            " [5 5 5]\n",
            " [5 5 5]\n",
            " [5 5 5]]\n",
            "[25 25 25]\n",
            "[5. 5. 5. 5. 5.]\n"
          ]
        }
      ]
    },
    {
      "cell_type": "markdown",
      "source": [
        "**🧊 Stacking Arrays**"
      ],
      "metadata": {
        "id": "SfRwG7HHCqM0"
      }
    },
    {
      "cell_type": "code",
      "source": [
        "arr=np.array([1,3,4,5])\n",
        "brr=np.array([4,5,6,6])\n",
        "crr=np.vstack([arr,brr])#Stacks arrays on top of each other (like rows in a table).Resulting array has more rows.\n",
        "print(crr)\n",
        "drr=np.hstack([arr,brr])# Stacks arrays side by side (like extending columns).Resulting array has more columns.\n",
        "print(drr)\n",
        "\"\"\"\n",
        "⚠️ Important Notes:\n",
        "Both arrays must have the same number of columns for vstack\n",
        "\n",
        "Same number of rows for hstack (if 2D)\n",
        "\"\"\""
      ],
      "metadata": {
        "colab": {
          "base_uri": "https://localhost:8080/"
        },
        "id": "vN551YZmDKSu",
        "outputId": "a089afd0-df1b-414a-bf70-df91901764de"
      },
      "execution_count": 109,
      "outputs": [
        {
          "output_type": "stream",
          "name": "stdout",
          "text": [
            "[[1 3 4 5]\n",
            " [4 5 6 6]]\n",
            "[1 3 4 5 4 5 6 6]\n"
          ]
        }
      ]
    },
    {
      "cell_type": "markdown",
      "source": [
        "**🔁 Reshape, Flatten & Resize**"
      ],
      "metadata": {
        "id": "p0ojHzfRGqFV"
      }
    },
    {
      "cell_type": "code",
      "source": [
        "\"\"\"\n",
        " reshape() – Create a Reshaped View (without changing original)\n",
        "Returns a new array with the shape you specify.\n",
        "\n",
        "The original array remains unchanged.\n",
        "\n",
        "Number of elements must match.\n",
        "\"\"\"\n",
        "arr=np.array([1,2,3,4,5,6])\n",
        "print(arr.reshape(2,3))\n",
        "\"\"\"\n",
        "🧲 flatten() – Convert to 1D (returns a copy)\n",
        "🔹 What it does:\n",
        "Converts any multidimensional array into 1D.\n",
        "\n",
        "Returns a new array (not a view).\n",
        "\n",
        "Original array is not changed\n",
        "\n",
        "\"\"\"\n",
        "arr=np.array([[1,2,3],[3,4,5]])\n",
        "print(arr.flatten())\n",
        "\n",
        "\"\"\"\"\n",
        "🔧 resize() – Change shape in-place (modifies original)\n",
        "🔹 What it does:\n",
        "Changes the shape of the array in-place.\n",
        "\n",
        "The original array is modified directly.\n",
        "\n",
        "If needed, it fills extra space with zeros (or junk data).\n",
        "\n",
        "Not commonly used in ML; use reshape() instead.\n",
        "\n",
        "\n",
        "\"\"\"\n",
        "arr = np.array([1, 2, 3, 4, 5, 6])\n",
        "arr.resize((3, 4))\n",
        "print(arr)"
      ],
      "metadata": {
        "colab": {
          "base_uri": "https://localhost:8080/"
        },
        "id": "StHUdoE5G0SH",
        "outputId": "8f719232-cf38-44eb-ebea-2ed3f9dfdffc"
      },
      "execution_count": 114,
      "outputs": [
        {
          "output_type": "stream",
          "name": "stdout",
          "text": [
            "[[1 2 3]\n",
            " [4 5 6]]\n",
            "[1 2 3 3 4 5]\n",
            "[[1 2 3 4]\n",
            " [5 6 0 0]\n",
            " [0 0 0 0]]\n"
          ]
        }
      ]
    }
  ],
  "metadata": {
    "colab": {
      "provenance": [],
      "authorship_tag": "ABX9TyOtEN8bhOQ5pVSlWvkqhLEv",
      "include_colab_link": true
    },
    "kernelspec": {
      "display_name": "Python 3",
      "name": "python3"
    },
    "language_info": {
      "name": "python"
    }
  },
  "nbformat": 4,
  "nbformat_minor": 0
}