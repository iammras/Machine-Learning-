{
  "nbformat": 4,
  "nbformat_minor": 0,
  "metadata": {
    "colab": {
      "provenance": [],
      "authorship_tag": "ABX9TyMBwo8mj2vDEho8lTN4s66Z",
      "include_colab_link": true
    },
    "kernelspec": {
      "name": "python3",
      "display_name": "Python 3"
    },
    "language_info": {
      "name": "python"
    }
  },
  "cells": [
    {
      "cell_type": "markdown",
      "metadata": {
        "id": "view-in-github",
        "colab_type": "text"
      },
      "source": [
        "<a href=\"https://colab.research.google.com/github/iammras/Machine-Learning-/blob/main/Numpy/NumPy_Practice_Solutions.ipynb\" target=\"_parent\"><img src=\"https://colab.research.google.com/assets/colab-badge.svg\" alt=\"Open In Colab\"/></a>"
      ]
    },
    {
      "cell_type": "markdown",
      "source": [
        "Q1:-Create a 1D array of integers from 10 to 50 (inclusive) with a step of 5."
      ],
      "metadata": {
        "id": "5izMWRgjCNIy"
      }
    },
    {
      "cell_type": "code",
      "source": [
        "import numpy as np\n",
        "arr=np.arange(10,51,5)\n",
        "print(arr)"
      ],
      "metadata": {
        "colab": {
          "base_uri": "https://localhost:8080/"
        },
        "id": "xmQ5WKV-CZus",
        "outputId": "946d5b01-68de-4c66-83e7-6689a5c9873a"
      },
      "execution_count": 2,
      "outputs": [
        {
          "output_type": "stream",
          "name": "stdout",
          "text": [
            "[10 15 20 25 30 35 40 45 50]\n"
          ]
        }
      ]
    },
    {
      "cell_type": "markdown",
      "source": [
        "Q2:- Create a 3x3 array filled with the number 7."
      ],
      "metadata": {
        "id": "EGUmLQ6CC3JR"
      }
    },
    {
      "cell_type": "code",
      "source": [
        "import numpy as np\n",
        "arr=np.full((3,3),7)\n",
        "print(arr)"
      ],
      "metadata": {
        "colab": {
          "base_uri": "https://localhost:8080/"
        },
        "id": "QMf_nNdXC857",
        "outputId": "c28078fe-ed72-4ddd-ba15-782b5c695616"
      },
      "execution_count": 3,
      "outputs": [
        {
          "output_type": "stream",
          "name": "stdout",
          "text": [
            "[[7 7 7]\n",
            " [7 7 7]\n",
            " [7 7 7]]\n"
          ]
        }
      ]
    },
    {
      "cell_type": "markdown",
      "source": [
        "Q3:- Create an array with 10 random integers between 1 and 100.\n",
        "Find the min, max, and mean of that array."
      ],
      "metadata": {
        "id": "uiaxgoILDLlr"
      }
    },
    {
      "cell_type": "code",
      "source": [
        "import numpy as np\n",
        "arr=np.random.randint(1,100,10)\n",
        "print(arr)"
      ],
      "metadata": {
        "colab": {
          "base_uri": "https://localhost:8080/"
        },
        "id": "Q3uFy9zSDPDh",
        "outputId": "12aa0200-7cb4-4575-ae69-db0e8a09e37c"
      },
      "execution_count": 10,
      "outputs": [
        {
          "output_type": "stream",
          "name": "stdout",
          "text": [
            "[95 28  5 31 83 24 33 37 34 64]\n"
          ]
        }
      ]
    },
    {
      "cell_type": "markdown",
      "source": [
        "Q4:- Create the array arr = np.array([10, 20, 30, 40, 50]) Print the last 3 elements using slicing."
      ],
      "metadata": {
        "id": "s-wmr_VjD-ta"
      }
    },
    {
      "cell_type": "code",
      "source": [
        "import numpy as np\n",
        "arr=np.array([10,20,30,40,50])\n",
        "print(arr[-1:-4:-1])\n",
        "print(arr[2:])"
      ],
      "metadata": {
        "colab": {
          "base_uri": "https://localhost:8080/"
        },
        "id": "6B1wyC4GEHfA",
        "outputId": "126675b1-4151-4bc7-888d-05ab50cc8b8a"
      },
      "execution_count": 13,
      "outputs": [
        {
          "output_type": "stream",
          "name": "stdout",
          "text": [
            "[50 40 30]\n",
            "[30 40 50]\n"
          ]
        }
      ]
    }
  ]
}